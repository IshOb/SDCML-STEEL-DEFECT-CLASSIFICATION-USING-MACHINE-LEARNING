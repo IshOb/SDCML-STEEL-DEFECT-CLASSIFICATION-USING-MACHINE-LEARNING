{
 "cells": [
  {
   "cell_type": "code",
   "execution_count": 13,
   "metadata": {
    "id": "NDe0RYm4gc_C"
   },
   "outputs": [],
   "source": [
    "import os\r\n",
    "import numpy as np\r\n",
    "import matplotlib.pyplot as plt\r\n",
    "from PIL import Image, ImageOps\r\n",
    "import random\r\n",
    "import torch\r\n",
    "import torchvision\r\n",
    "import torchvision.transforms as transforms\r\n",
    "import torchvision.datasets as datasets\r\n",
    "import torch.nn as nn\r\n",
    "import torch.optim as optim\r\n",
    "import torch.nn.functional as F\r\n",
    "from torch.autograd import Variable\r\n",
    "from torch.utils.data import DataLoader\r\n",
    "from torchvision import models\r\n",
    "from torch import cuda\r\n",
    "from timeit import default_timer as timer\r\n",
    "from torchsummary import summary\r\n",
    "import pandas as pd"
   ]
  },
  {
   "cell_type": "code",
   "execution_count": 14,
   "metadata": {
    "id": "ry0nqQqni6cM"
   },
   "outputs": [],
   "source": [
    "# Image transformations\r\n",
    "image_transforms = {\r\n",
    "    # Train uses data augmentation\r\n",
    "    'train':\r\n",
    "    transforms.Compose([\r\n",
    "        transforms.RandomResizedCrop(size=256, scale=(0.8, 1.0)),\r\n",
    "        transforms.RandomRotation(degrees=15),\r\n",
    "        transforms.ColorJitter(),\r\n",
    "        transforms.RandomHorizontalFlip(),\r\n",
    "        transforms.CenterCrop(size=224),  # Image net standards\r\n",
    "        transforms.ToTensor(),\r\n",
    "        transforms.Normalize([0.485, 0.456, 0.406],\r\n",
    "                             [0.229, 0.224, 0.225])  # Imagenet standards\r\n",
    "    ]),\r\n",
    "    # Validation does not use augmentation\r\n",
    "    'valid':\r\n",
    "    transforms.Compose([\r\n",
    "        transforms.Resize(size=256),\r\n",
    "        transforms.CenterCrop(size=224),\r\n",
    "        transforms.ToTensor(),\r\n",
    "        transforms.Normalize([0.485, 0.456, 0.406], [0.229, 0.224, 0.225])\r\n",
    "    ]),\r\n",
    "}\r\n"
   ]
  },
  {
   "cell_type": "code",
   "execution_count": 15,
   "metadata": {
    "colab": {
     "base_uri": "https://localhost:8080/"
    },
    "id": "1oy9AWfgjTTC",
    "outputId": "70a9d41e-903f-40b7-f149-60bacaac2614"
   },
   "outputs": [
    {
     "name": "stdout",
     "output_type": "stream",
     "text": [
      "[Errno 2] No such file or directory: '/gdrive/My Drive/'\n",
      "/content\n",
      "cp: missing destination file operand after 'new_data'\n",
      "Try 'cp --help' for more information.\n"
     ]
    }
   ],
   "source": [
    "%cd /gdrive/My Drive/\r\n",
    "%cp -av new_data"
   ]
  },
  {
   "cell_type": "code",
   "execution_count": 16,
   "metadata": {
    "id": "iOZi8Ka5jBSb"
   },
   "outputs": [],
   "source": [
    "TRAIN_DIR = '/content/drive/MyDrive/new_data/training'\r\n",
    "VALID_DIR = '/content/drive/MyDrive/new_data/validation'\r\n",
    "TEST_DIR = '/content/drive/MyDrive/new_data/testing'\r\n",
    "\r\n",
    "WEIGHT_PATH = './weights/steel/cnn/'\r\n",
    "SAVE_IMAGE_PATH = './images/steel/cnn/'\r\n",
    "\r\n",
    "SAVE_TEST_RESULTS_PATH = './images/steel/test_output'\r\n",
    "\r\n",
    "device = torch.device('cuda:0' if (torch.cuda.is_available()) else 'cpu')"
   ]
  },
  {
   "cell_type": "code",
   "execution_count": 17,
   "metadata": {
    "id": "cg5qZMxIlcth"
   },
   "outputs": [],
   "source": [
    "BATCH_SIZE = 128\r\n",
    "N_EPOCHS = 30\r\n",
    "LR = 0.0005\r\n",
    "N_GPU = 1\r\n",
    "SET_L = False\r\n",
    "INPUT_D = 3 if SET_L == False else 1"
   ]
  },
  {
   "cell_type": "code",
   "execution_count": 18,
   "metadata": {
    "id": "A5HuYFpoljKr"
   },
   "outputs": [],
   "source": [
    "# Datasets from folders\r\n",
    "data = {\r\n",
    "    'train':\r\n",
    "    datasets.ImageFolder(root=TRAIN_DIR, transform=image_transforms['train']),\r\n",
    "    'valid':\r\n",
    "    datasets.ImageFolder(root=VALID_DIR, transform=image_transforms['valid']),\r\n",
    "}\r\n",
    "\r\n",
    "# Dataloader iterators, make sure to shuffle\r\n",
    "dataloaders = {\r\n",
    "    'train': DataLoader(data['train'], batch_size=BATCH_SIZE, shuffle=True),\r\n",
    "    'val': DataLoader(data['valid'], batch_size=BATCH_SIZE, shuffle=True)\r\n",
    "}\r\n"
   ]
  },
  {
   "cell_type": "code",
   "execution_count": 19,
   "metadata": {
    "colab": {
     "base_uri": "https://localhost:8080/"
    },
    "id": "vaLSBUS6ljOB",
    "outputId": "169966a0-6e81-44f8-cff4-a1bc91d5dc12"
   },
   "outputs": [
    {
     "data": {
      "text/plain": [
       "(torch.Size([128, 3, 224, 224]), torch.Size([128]))"
      ]
     },
     "execution_count": 19,
     "metadata": {
      "tags": []
     },
     "output_type": "execute_result"
    }
   ],
   "source": [
    "# Iterate through the dataloader once\r\n",
    "trainiter = iter(dataloaders['train'])\r\n",
    "features, labels = next(trainiter)\r\n",
    "features.shape, labels.shape"
   ]
  },
  {
   "cell_type": "code",
   "execution_count": 20,
   "metadata": {
    "colab": {
     "base_uri": "https://localhost:8080/",
     "height": 83,
     "referenced_widgets": [
      "a39e528e18b54357a63d1c6f112b01a0",
      "9d6da90575694ec0b0ddcd2611528372",
      "603fa75f36a74af8a7a8b07e76023566",
      "138afb222d3244adbc9264433ba61ace",
      "7f9a0eb15e984d3694b61c0efca06e7c",
      "ac360e2d42bc4ed488151257dfec5487",
      "2e617940fdbd414bbb80bed7fc43e27b",
      "0f79ad41e19544ad948b96b4e60cb4de"
     ]
    },
    "id": "gn2fXH4nlu4g",
    "outputId": "1c504049-bbd5-48b1-c91e-b4f1a900398b"
   },
   "outputs": [
    {
     "name": "stderr",
     "output_type": "stream",
     "text": [
      "Downloading: \"https://download.pytorch.org/models/vgg16-397923af.pth\" to /root/.cache/torch/hub/checkpoints/vgg16-397923af.pth\n"
     ]
    },
    {
     "data": {
      "application/vnd.jupyter.widget-view+json": {
       "model_id": "a39e528e18b54357a63d1c6f112b01a0",
       "version_major": 2,
       "version_minor": 0
      },
      "text/plain": [
       "HBox(children=(FloatProgress(value=0.0, max=553433881.0), HTML(value='')))"
      ]
     },
     "metadata": {
      "tags": []
     },
     "output_type": "display_data"
    },
    {
     "name": "stdout",
     "output_type": "stream",
     "text": [
      "\n"
     ]
    }
   ],
   "source": [
    "model = models.vgg16(pretrained=True)"
   ]
  },
  {
   "cell_type": "code",
   "execution_count": 21,
   "metadata": {
    "id": "pvzQhjJ-lvEC"
   },
   "outputs": [],
   "source": [
    "# Freeze model weights\r\n",
    "for param in model.parameters():\r\n",
    "    param.requires_grad = False"
   ]
  },
  {
   "cell_type": "code",
   "execution_count": 22,
   "metadata": {
    "id": "IWbbgI-DmBwW"
   },
   "outputs": [],
   "source": [
    "# Add on classifier\r\n",
    "model.classifier[6] = nn.Sequential(\r\n",
    "                      nn.Linear(900, 256),\r\n",
    "                      nn.ReLU(),\r\n",
    "                      nn.Dropout(0.4),\r\n",
    "                      nn.Linear(256, 6),\r\n",
    "                      nn.LogSoftmax(dim=1))\r\n"
   ]
  },
  {
   "cell_type": "code",
   "execution_count": 23,
   "metadata": {
    "colab": {
     "base_uri": "https://localhost:8080/"
    },
    "id": "N4JQeuAgmB60",
    "outputId": "b966bf25-6232-4e1d-c413-8ec8337cae22"
   },
   "outputs": [
    {
     "data": {
      "text/plain": [
       "Sequential(\n",
       "  (0): Linear(in_features=25088, out_features=4096, bias=True)\n",
       "  (1): ReLU(inplace=True)\n",
       "  (2): Dropout(p=0.5, inplace=False)\n",
       "  (3): Linear(in_features=4096, out_features=4096, bias=True)\n",
       "  (4): ReLU(inplace=True)\n",
       "  (5): Dropout(p=0.5, inplace=False)\n",
       "  (6): Sequential(\n",
       "    (0): Linear(in_features=900, out_features=256, bias=True)\n",
       "    (1): ReLU()\n",
       "    (2): Dropout(p=0.4, inplace=False)\n",
       "    (3): Linear(in_features=256, out_features=6, bias=True)\n",
       "    (4): LogSoftmax(dim=1)\n",
       "  )\n",
       ")"
      ]
     },
     "execution_count": 23,
     "metadata": {
      "tags": []
     },
     "output_type": "execute_result"
    }
   ],
   "source": [
    "# Only training classifier[6]\r\n",
    "model.classifier\r\n"
   ]
  },
  {
   "cell_type": "code",
   "execution_count": 24,
   "metadata": {
    "colab": {
     "base_uri": "https://localhost:8080/"
    },
    "id": "5YWghpMKmCDF",
    "outputId": "258f97dd-0043-4d43-afc0-f484b25870f6"
   },
   "outputs": [
    {
     "name": "stdout",
     "output_type": "stream",
     "text": [
      "134,492,742 total parameters.\n",
      "232,198 training parameters.\n"
     ]
    }
   ],
   "source": [
    "# Find total parameters and trainable parameters\r\n",
    "total_params = sum(p.numel() for p in model.parameters())\r\n",
    "print(f'{total_params:,} total parameters.')\r\n",
    "total_trainable_params = sum(\r\n",
    "    p.numel() for p in model.parameters() if p.requires_grad)\r\n",
    "print(f'{total_trainable_params:,} training parameters.')"
   ]
  },
  {
   "cell_type": "code",
   "execution_count": 25,
   "metadata": {
    "colab": {
     "base_uri": "https://localhost:8080/"
    },
    "id": "jjU3xt3rmPzu",
    "outputId": "df5d58f4-d5ae-4386-8e03-6d81a21b8cec"
   },
   "outputs": [
    {
     "name": "stdout",
     "output_type": "stream",
     "text": [
      "Train on gpu: True\n",
      "1 gpus detected.\n"
     ]
    }
   ],
   "source": [
    "\r\n",
    "# Whether to train on a gpu\r\n",
    "train_on_gpu = torch.cuda.is_available()\r\n",
    "print(f'Train on gpu: {train_on_gpu}')\r\n",
    "# Number of gpus\r\n",
    "if train_on_gpu:\r\n",
    "    gpu_count = torch.cuda.device_count()\r\n",
    "    print(f'{gpu_count} gpus detected.')\r\n",
    "    if gpu_count > 1:\r\n",
    "        multi_gpu = True\r\n",
    "    else:\r\n",
    "        multi_gpu = False\r\n",
    "# Move to gpu\r\n",
    "#model = model.to('cuda')\r\n",
    "# Distribute across 2 gpus\r\n",
    "model = nn.DataParallel(model)"
   ]
  },
  {
   "cell_type": "code",
   "execution_count": 26,
   "metadata": {
    "id": "RTctWiE-mP2-"
   },
   "outputs": [],
   "source": [
    "# Loss and optimizer\r\n",
    "criteration = nn.NLLLoss()\r\n",
    "optimizer = optim.Adam(model.parameters())"
   ]
  },
  {
   "cell_type": "code",
   "execution_count": 27,
   "metadata": {
    "id": "wPvRsKyCmP6A"
   },
   "outputs": [],
   "source": [
    "n_classes = 6\r\n",
    "def get_pretrained_model(model_name):\r\n",
    "    \"\"\"Retrieve a pre-trained model from torchvision\r\n",
    "\r\n",
    "    Params\r\n",
    "    -------\r\n",
    "        model_name (str): name of the model (currently only accepts vgg16 and resnet50)\r\n",
    "\r\n",
    "    Return\r\n",
    "    --------\r\n",
    "        model (PyTorch model): cnn\r\n",
    "\r\n",
    "    \"\"\"\r\n",
    "\r\n",
    "    if model_name == 'vgg16':\r\n",
    "        model = models.vgg16(pretrained=True)\r\n",
    "\r\n",
    "        # Freeze early layers\r\n",
    "        for param in model.parameters():\r\n",
    "            param.requires_grad = False\r\n",
    "        n_inputs = model.classifier[6].in_features\r\n",
    "\r\n",
    "        # Add on classifier\r\n",
    "        model.classifier[6] = nn.Sequential(\r\n",
    "            nn.Linear(n_inputs, 256), nn.ReLU(), nn.Dropout(0.2),\r\n",
    "            nn.Linear(256, n_classes), nn.LogSoftmax(dim=1))\r\n",
    "\r\n",
    "    elif model_name == 'resnet50':\r\n",
    "        model = models.resnet50(pretrained=True)\r\n",
    "\r\n",
    "        for param in model.parameters():\r\n",
    "            param.requires_grad = False\r\n",
    "\r\n",
    "        n_inputs = model.fc.in_features\r\n",
    "        model.fc = nn.Sequential(\r\n",
    "            nn.Linear(n_inputs, 256), nn.ReLU(), nn.Dropout(0.2),\r\n",
    "            nn.Linear(256, n_classes), nn.LogSoftmax(dim=1))\r\n",
    "\r\n",
    "    # Move to gpu and parallelize\r\n",
    "    if train_on_gpu:\r\n",
    "        model = model.to('cuda')\r\n",
    "\r\n",
    "    if multi_gpu:\r\n",
    "        model = nn.DataParallel(model)\r\n",
    "\r\n",
    "    return model\r\n"
   ]
  },
  {
   "cell_type": "code",
   "execution_count": 28,
   "metadata": {
    "colab": {
     "base_uri": "https://localhost:8080/"
    },
    "id": "UD1SVuTBmP9G",
    "outputId": "df719721-08ab-4018-d547-8ce6e0949ce1"
   },
   "outputs": [
    {
     "name": "stdout",
     "output_type": "stream",
     "text": [
      "Train on gpu: True\n",
      "1 gpus detected.\n",
      "----------------------------------------------------------------\n",
      "        Layer (type)               Output Shape         Param #\n",
      "================================================================\n",
      "            Conv2d-1        [128, 64, 224, 224]           1,792\n",
      "              ReLU-2        [128, 64, 224, 224]               0\n",
      "            Conv2d-3        [128, 64, 224, 224]          36,928\n",
      "              ReLU-4        [128, 64, 224, 224]               0\n",
      "         MaxPool2d-5        [128, 64, 112, 112]               0\n",
      "            Conv2d-6       [128, 128, 112, 112]          73,856\n",
      "              ReLU-7       [128, 128, 112, 112]               0\n",
      "            Conv2d-8       [128, 128, 112, 112]         147,584\n",
      "              ReLU-9       [128, 128, 112, 112]               0\n",
      "        MaxPool2d-10         [128, 128, 56, 56]               0\n",
      "           Conv2d-11         [128, 256, 56, 56]         295,168\n",
      "             ReLU-12         [128, 256, 56, 56]               0\n",
      "           Conv2d-13         [128, 256, 56, 56]         590,080\n",
      "             ReLU-14         [128, 256, 56, 56]               0\n",
      "           Conv2d-15         [128, 256, 56, 56]         590,080\n",
      "             ReLU-16         [128, 256, 56, 56]               0\n",
      "        MaxPool2d-17         [128, 256, 28, 28]               0\n",
      "           Conv2d-18         [128, 512, 28, 28]       1,180,160\n",
      "             ReLU-19         [128, 512, 28, 28]               0\n",
      "           Conv2d-20         [128, 512, 28, 28]       2,359,808\n",
      "             ReLU-21         [128, 512, 28, 28]               0\n",
      "           Conv2d-22         [128, 512, 28, 28]       2,359,808\n",
      "             ReLU-23         [128, 512, 28, 28]               0\n",
      "        MaxPool2d-24         [128, 512, 14, 14]               0\n",
      "           Conv2d-25         [128, 512, 14, 14]       2,359,808\n",
      "             ReLU-26         [128, 512, 14, 14]               0\n",
      "           Conv2d-27         [128, 512, 14, 14]       2,359,808\n",
      "             ReLU-28         [128, 512, 14, 14]               0\n",
      "           Conv2d-29         [128, 512, 14, 14]       2,359,808\n",
      "             ReLU-30         [128, 512, 14, 14]               0\n",
      "        MaxPool2d-31           [128, 512, 7, 7]               0\n",
      "AdaptiveAvgPool2d-32           [128, 512, 7, 7]               0\n",
      "           Linear-33                [128, 4096]     102,764,544\n",
      "             ReLU-34                [128, 4096]               0\n",
      "          Dropout-35                [128, 4096]               0\n",
      "           Linear-36                [128, 4096]      16,781,312\n",
      "             ReLU-37                [128, 4096]               0\n",
      "          Dropout-38                [128, 4096]               0\n",
      "           Linear-39                 [128, 256]       1,048,832\n",
      "             ReLU-40                 [128, 256]               0\n",
      "          Dropout-41                 [128, 256]               0\n",
      "           Linear-42                   [128, 6]           1,542\n",
      "       LogSoftmax-43                   [128, 6]               0\n",
      "================================================================\n",
      "Total params: 135,310,918\n",
      "Trainable params: 1,050,374\n",
      "Non-trainable params: 134,260,544\n",
      "----------------------------------------------------------------\n",
      "Input size (MB): 73.50\n",
      "Forward/backward pass size (MB): 28003.76\n",
      "Params size (MB): 516.17\n",
      "Estimated Total Size (MB): 28593.43\n",
      "----------------------------------------------------------------\n"
     ]
    }
   ],
   "source": [
    "# Whether to train on a gpu\r\n",
    "\r\n",
    "train_on_gpu = cuda.is_available()\r\n",
    "print(f'Train on gpu: {train_on_gpu}')\r\n",
    "\r\n",
    "# Number of gpus\r\n",
    "if train_on_gpu:\r\n",
    "    gpu_count = cuda.device_count()\r\n",
    "    print(f'{gpu_count} gpus detected.')\r\n",
    "    if gpu_count > 1:\r\n",
    "        multi_gpu = True\r\n",
    "    else:\r\n",
    "        multi_gpu = False\r\n",
    "n_classes = 6\r\n",
    "model = get_pretrained_model('vgg16')\r\n",
    "if multi_gpu:\r\n",
    "    summary(\r\n",
    "        model.module,\r\n",
    "        input_size=(3, 224, 224),\r\n",
    "        batch_size=BATCH_SIZE,\r\n",
    "        device='cuda')\r\n",
    "else:\r\n",
    "    summary(\r\n",
    "        model, input_size=(3, 224, 224), batch_size=BATCH_SIZE, device='cuda')"
   ]
  },
  {
   "cell_type": "code",
   "execution_count": 29,
   "metadata": {
    "id": "eTZjkzdgmQAP"
   },
   "outputs": [],
   "source": [
    "def train(model,\r\n",
    "          criterion,\r\n",
    "          optimizer,\r\n",
    "          train_loader,\r\n",
    "          valid_loader,\r\n",
    "          save_file_name,\r\n",
    "          max_epochs_stop=3,\r\n",
    "          n_epochs=20,\r\n",
    "          print_every=2):\r\n",
    "    \"\"\"Train a PyTorch Model\r\n",
    "\r\n",
    "    Params\r\n",
    "    --------\r\n",
    "        model (PyTorch model): cnn to train\r\n",
    "        criterion (PyTorch loss): objective to minimize\r\n",
    "        optimizer (PyTorch optimizier): optimizer to compute gradients of model parameters\r\n",
    "        train_loader (PyTorch dataloader): training dataloader to iterate through\r\n",
    "        valid_loader (PyTorch dataloader): validation dataloader used for early stopping\r\n",
    "        save_file_name (str ending in '.pt'): file path to save the model state dict\r\n",
    "        max_epochs_stop (int): maximum number of epochs with no improvement in validation loss for early stopping\r\n",
    "        n_epochs (int): maximum number of training epochs\r\n",
    "        print_every (int): frequency of epochs to print training stats\r\n",
    "\r\n",
    "    Returns\r\n",
    "    --------\r\n",
    "        model (PyTorch model): trained cnn with best weights\r\n",
    "        history (DataFrame): history of train and validation loss and accuracy\r\n",
    "    \"\"\"\r\n",
    "\r\n",
    "    # Early stopping intialization\r\n",
    "    epochs_no_improve = 0\r\n",
    "    valid_loss_min = np.Inf\r\n",
    "\r\n",
    "    valid_max_acc = 0\r\n",
    "    history = []\r\n",
    "\r\n",
    "    # Number of epochs already trained (if using loaded in model weights)\r\n",
    "    try:\r\n",
    "        print(f'Model has been trained for: {model.epochs} epochs.\\n')\r\n",
    "    except:\r\n",
    "        model.epochs = 0\r\n",
    "        print(f'Starting Training from Scratch.\\n')\r\n",
    "\r\n",
    "    overall_start = timer()\r\n",
    "\r\n",
    "    # Main loop\r\n",
    "    for epoch in range(n_epochs):\r\n",
    "\r\n",
    "        # keep track of training and validation loss each epoch\r\n",
    "        train_loss = 0.0\r\n",
    "        valid_loss = 0.0\r\n",
    "\r\n",
    "        train_acc = 0\r\n",
    "        valid_acc = 0\r\n",
    "\r\n",
    "        # Set to training\r\n",
    "        model.train()\r\n",
    "        start = timer()\r\n",
    "\r\n",
    "        # Training loop\r\n",
    "        for ii, (data, target) in enumerate(train_loader):\r\n",
    "            # Tensors to gpu\r\n",
    "            if train_on_gpu:\r\n",
    "                data, target = data.cuda(), target.cuda()\r\n",
    "\r\n",
    "            # Clear gradients\r\n",
    "            optimizer.zero_grad()\r\n",
    "            # Predicted outputs are log probabilities\r\n",
    "            output = model(data)\r\n",
    "\r\n",
    "            # Loss and backpropagation of gradients\r\n",
    "            loss = criterion(output, target)\r\n",
    "            loss.backward()\r\n",
    "\r\n",
    "            # Update the parameters\r\n",
    "            optimizer.step()\r\n",
    "\r\n",
    "            # Track train loss by multiplying average loss by number of examples in batch\r\n",
    "            train_loss += loss.item() * data.size(0)\r\n",
    "\r\n",
    "            # Calculate accuracy by finding max log probability\r\n",
    "            _, pred = torch.max(output, dim=1)\r\n",
    "            correct_tensor = pred.eq(target.data.view_as(pred))\r\n",
    "            # Need to convert correct tensor from int to float to average\r\n",
    "            accuracy = torch.mean(correct_tensor.type(torch.FloatTensor))\r\n",
    "            # Multiply average accuracy times the number of examples in batch\r\n",
    "            train_acc += accuracy.item() * data.size(0)\r\n",
    "\r\n",
    "            # Track training progress\r\n",
    "            print(\r\n",
    "                f'Epoch: {epoch}\\t{100 * (ii + 1) / len(train_loader):.2f}% complete. {timer() - start:.2f} seconds elapsed in epoch.',\r\n",
    "                end='\\r')\r\n",
    "\r\n",
    "        # After training loops ends, start validation\r\n",
    "        else:\r\n",
    "            model.epochs += 1\r\n",
    "\r\n",
    "            # Don't need to keep track of gradients\r\n",
    "            with torch.no_grad():\r\n",
    "                # Set to evaluation mode\r\n",
    "                model.eval()\r\n",
    "\r\n",
    "                # Validation loop\r\n",
    "                for data, target in valid_loader:\r\n",
    "                    # Tensors to gpu\r\n",
    "                    if train_on_gpu:\r\n",
    "                        data, target = data.cuda(), target.cuda()\r\n",
    "\r\n",
    "                    # Forward pass\r\n",
    "                    output = model(data)\r\n",
    "\r\n",
    "                    # Validation loss\r\n",
    "                    loss = criterion(output, target)\r\n",
    "                    # Multiply average loss times the number of examples in batch\r\n",
    "                    valid_loss += loss.item() * data.size(0)\r\n",
    "\r\n",
    "                    # Calculate validation accuracy\r\n",
    "                    _, pred = torch.max(output, dim=1)\r\n",
    "                    correct_tensor = pred.eq(target.data.view_as(pred))\r\n",
    "                    accuracy = torch.mean(\r\n",
    "                        correct_tensor.type(torch.FloatTensor))\r\n",
    "                    # Multiply average accuracy times the number of examples\r\n",
    "                    valid_acc += accuracy.item() * data.size(0)\r\n",
    "\r\n",
    "                # Calculate average losses\r\n",
    "                train_loss = train_loss / len(train_loader.dataset)\r\n",
    "                valid_loss = valid_loss / len(valid_loader.dataset)\r\n",
    "\r\n",
    "                # Calculate average accuracy\r\n",
    "                train_acc = train_acc / len(train_loader.dataset)\r\n",
    "                valid_acc = valid_acc / len(valid_loader.dataset)\r\n",
    "\r\n",
    "                history.append([train_loss, valid_loss, train_acc, valid_acc])\r\n",
    "\r\n",
    "                # Print training and validation results\r\n",
    "                if (epoch + 1) % print_every == 0:\r\n",
    "                    print(\r\n",
    "                        f'\\nEpoch: {epoch} \\tTraining Loss: {train_loss:.4f} \\tValidation Loss: {valid_loss:.4f}'\r\n",
    "                    )\r\n",
    "                    print(\r\n",
    "                        f'\\t\\tTraining Accuracy: {100 * train_acc:.2f}%\\t Validation Accuracy: {100 * valid_acc:.2f}%'\r\n",
    "                    )\r\n",
    "\r\n",
    "                # Save the model if validation loss decreases\r\n",
    "                if valid_loss < valid_loss_min:\r\n",
    "                    # Save model\r\n",
    "                    torch.save(model.state_dict(), save_file_name)\r\n",
    "                    # Track improvement\r\n",
    "                    epochs_no_improve = 0\r\n",
    "                    valid_loss_min = valid_loss\r\n",
    "                    valid_best_acc = valid_acc\r\n",
    "                    best_epoch = epoch\r\n",
    "\r\n",
    "                # Otherwise increment count of epochs with no improvement\r\n",
    "                else:\r\n",
    "                    epochs_no_improve += 1\r\n",
    "                    # Trigger early stopping\r\n",
    "                    if epochs_no_improve >= max_epochs_stop:\r\n",
    "                        print(\r\n",
    "                            f'\\nEarly Stopping! Total epochs: {epoch}. Best epoch: {best_epoch} with loss: {valid_loss_min:.2f} and acc: {100 * valid_acc:.2f}%'\r\n",
    "                        )\r\n",
    "                        total_time = timer() - overall_start\r\n",
    "                        print(\r\n",
    "                            f'{total_time:.2f} total seconds elapsed. {total_time / (epoch+1):.2f} seconds per epoch.'\r\n",
    "                        )\r\n",
    "\r\n",
    "                        # Load the best state dict\r\n",
    "                        model.load_state_dict(torch.load(save_file_name))\r\n",
    "                        # Attach the optimizer\r\n",
    "                        model.optimizer = optimizer\r\n",
    "\r\n",
    "                        # Format history\r\n",
    "                        history = pd.DataFrame(\r\n",
    "                            history,\r\n",
    "                            columns=[\r\n",
    "                                'train_loss', 'valid_loss', 'train_acc',\r\n",
    "                                'valid_acc'\r\n",
    "                            ])\r\n",
    "                        return model, history\r\n",
    "\r\n",
    "    # Attach the optimizer\r\n",
    "    model.optimizer = optimizer\r\n",
    "    # Record overall time and print out stats\r\n",
    "    total_time = timer() - overall_start\r\n",
    "    print(\r\n",
    "        f'\\nBest epoch: {best_epoch} with loss: {valid_loss_min:.2f} and acc: {100 * valid_acc:.2f}%'\r\n",
    "    )\r\n",
    "    print(\r\n",
    "        f'{total_time:.2f} total seconds elapsed. {total_time / (epoch):.2f} seconds per epoch.'\r\n",
    "    )\r\n",
    "    # Format history\r\n",
    "    history = pd.DataFrame(\r\n",
    "        history,\r\n",
    "        columns=['train_loss', 'valid_loss', 'train_acc', 'valid_acc'])\r\n",
    "    return model, history\r\n",
    "\r\n"
   ]
  },
  {
   "cell_type": "code",
   "execution_count": 30,
   "metadata": {
    "colab": {
     "base_uri": "https://localhost:8080/"
    },
    "id": "5KUgI_qVmQDI",
    "outputId": "b2b029ec-1498-4793-81ab-f533cec92d13"
   },
   "outputs": [
    {
     "name": "stdout",
     "output_type": "stream",
     "text": [
      "Starting Training from Scratch.\n",
      "\n",
      "\n",
      "Epoch: 1 \tTraining Loss: 0.2393 \tValidation Loss: 0.0970\n",
      "\t\tTraining Accuracy: 94.18%\t Validation Accuracy: 96.96%\n",
      "\n",
      "Epoch: 3 \tTraining Loss: 0.1010 \tValidation Loss: 0.0645\n",
      "\t\tTraining Accuracy: 96.53%\t Validation Accuracy: 97.17%\n",
      "\n",
      "Epoch: 5 \tTraining Loss: 0.0709 \tValidation Loss: 0.0440\n",
      "\t\tTraining Accuracy: 97.99%\t Validation Accuracy: 98.48%\n",
      "\n",
      "Epoch: 7 \tTraining Loss: 0.0823 \tValidation Loss: 0.0299\n",
      "\t\tTraining Accuracy: 97.20%\t Validation Accuracy: 98.70%\n",
      "\n",
      "Epoch: 9 \tTraining Loss: 0.0800 \tValidation Loss: 0.0343\n",
      "\t\tTraining Accuracy: 97.20%\t Validation Accuracy: 98.48%\n",
      "\n",
      "Epoch: 11 \tTraining Loss: 0.0580 \tValidation Loss: 0.0561\n",
      "\t\tTraining Accuracy: 97.99%\t Validation Accuracy: 97.61%\n",
      "\n",
      "Epoch: 13 \tTraining Loss: 0.0609 \tValidation Loss: 0.0270\n",
      "\t\tTraining Accuracy: 97.54%\t Validation Accuracy: 98.70%\n",
      "\n",
      "Early Stopping! Total epochs: 13. Best epoch: 8 with loss: 0.02 and acc: 98.70%\n",
      "978.58 total seconds elapsed. 69.90 seconds per epoch.\n"
     ]
    }
   ],
   "source": [
    "criterion = nn.NLLLoss()\r\n",
    "optimizer = optim.Adam(model.parameters())\r\n",
    "save_file_name = 'vgg16-transfer-4.pt'\r\n",
    "model, history = train(\r\n",
    "    model,\r\n",
    "    criterion,\r\n",
    "    optimizer,\r\n",
    "    dataloaders['train'],\r\n",
    "    dataloaders['val'],\r\n",
    "    save_file_name=save_file_name,\r\n",
    "    max_epochs_stop=5,\r\n",
    "    n_epochs=30,\r\n",
    "    print_every=2)"
   ]
  },
  {
   "cell_type": "code",
   "execution_count": 31,
   "metadata": {
    "colab": {
     "base_uri": "https://localhost:8080/",
     "height": 421
    },
    "id": "oVCVnZHZmQGf",
    "outputId": "cd66f7b9-1688-4b7d-8de4-e2c5213e36d1"
   },
   "outputs": [
    {
     "data": {
      "text/plain": [
       "Text(0.5, 1.0, 'Training and Validation Losses')"
      ]
     },
     "execution_count": 31,
     "metadata": {
      "tags": []
     },
     "output_type": "execute_result"
    },
    {
     "data": {
      "image/png": "[encoded data removed]",
      "text/plain": [
       "<Figure size 576x432 with 1 Axes>"
      ]
     },
     "metadata": {
      "needs_background": "light",
      "tags": []
     },
     "output_type": "display_data"
    }
   ],
   "source": [
    "plt.figure(figsize=(8, 6))\r\n",
    "for c in ['train_loss', 'valid_loss']:\r\n",
    "    plt.plot(\r\n",
    "        history[c], label=c)\r\n",
    "plt.legend()\r\n",
    "plt.xlabel('Epoch')\r\n",
    "plt.ylabel('Average Negative Log Likelihood')\r\n",
    "plt.title('Training and Validation Losses')"
   ]
  },
  {
   "cell_type": "code",
   "execution_count": 32,
   "metadata": {
    "colab": {
     "base_uri": "https://localhost:8080/",
     "height": 421
    },
    "id": "Iy6GdxQyqFCz",
    "outputId": "82c2dad9-2c7a-46ff-bbcd-8034a13502e0"
   },
   "outputs": [
    {
     "data": {
      "text/plain": [
       "Text(0.5, 1.0, 'Training and Validation Accuracy')"
      ]
     },
     "execution_count": 32,
     "metadata": {
      "tags": []
     },
     "output_type": "execute_result"
    },
    {
     "data": {
      "image/png": "[encoded data removed]",
      "text/plain": [
       "<Figure size 576x432 with 1 Axes>"
      ]
     },
     "metadata": {
      "needs_background": "light",
      "tags": []
     },
     "output_type": "display_data"
    }
   ],
   "source": [
    "plt.figure(figsize=(8, 6))\r\n",
    "for c in ['train_acc', 'valid_acc']:\r\n",
    "    plt.plot(\r\n",
    "        100 * history[c], label=c)\r\n",
    "plt.legend()\r\n",
    "plt.xlabel('Epoch')\r\n",
    "plt.ylabel('Average Accuracy')\r\n",
    "plt.title('Training and Validation Accuracy')\r\n"
   ]
  },
  {
   "cell_type": "code",
   "execution_count": null,
   "metadata": {
    "id": "FTaXCqm2qFNm"
   },
   "outputs": [],
   "source": []
  }
 ],
 "metadata": {
  "accelerator": "GPU",
  "colab": {
   "name": "Untitled2.ipynb",
   "provenance": []
  },
  "kernelspec": {
   "display_name": "Python 3",
   "language": "python",
   "name": "python3"
  },
  "language_info": {
   "codemirror_mode": {
    "name": "ipython",
    "version": 3
   },
   "file_extension": ".py",
   "mimetype": "text/x-python",
   "name": "python",
   "nbconvert_exporter": "python",
   "pygments_lexer": "ipython3",
   "version": "3.7.1"
  },
  "widgets": {
   "application/vnd.jupyter.widget-state+json": {
    "0f79ad41e19544ad948b96b4e60cb4de": {
     "model_module": "@jupyter-widgets/base",
     "model_name": "LayoutModel",
     "state": {
      "_model_module": "@jupyter-widgets/base",
      "_model_module_version": "1.2.0",
      "_model_name": "LayoutModel",
      "_view_count": null,
      "_view_module": "@jupyter-widgets/base",
      "_view_module_version": "1.2.0",
      "_view_name": "LayoutView",
      "align_content": null,
      "align_items": null,
      "align_self": null,
      "border": null,
      "bottom": null,
      "display": null,
      "flex": null,
      "flex_flow": null,
      "grid_area": null,
      "grid_auto_columns": null,
      "grid_auto_flow": null,
      "grid_auto_rows": null,
      "grid_column": null,
      "grid_gap": null,
      "grid_row": null,
      "grid_template_areas": null,
      "grid_template_columns": null,
      "grid_template_rows": null,
      "height": null,
      "justify_content": null,
      "justify_items": null,
      "left": null,
      "margin": null,
      "max_height": null,
      "max_width": null,
      "min_height": null,
      "min_width": null,
      "object_fit": null,
      "object_position": null,
      "order": null,
      "overflow": null,
      "overflow_x": null,
      "overflow_y": null,
      "padding": null,
      "right": null,
      "top": null,
      "visibility": null,
      "width": null
     }
    },
    "138afb222d3244adbc9264433ba61ace": {
     "model_module": "@jupyter-widgets/controls",
     "model_name": "HTMLModel",
     "state": {
      "_dom_classes": [],
      "_model_module": "@jupyter-widgets/controls",
      "_model_module_version": "1.5.0",
      "_model_name": "HTMLModel",
      "_view_count": null,
      "_view_module": "@jupyter-widgets/controls",
      "_view_module_version": "1.5.0",
      "_view_name": "HTMLView",
      "description": "",
      "description_tooltip": null,
      "layout": "IPY_MODEL_0f79ad41e19544ad948b96b4e60cb4de",
      "placeholder": "​",
      "style": "IPY_MODEL_2e617940fdbd414bbb80bed7fc43e27b",
      "value": " 528M/528M [17:38&lt;00:00, 523kB/s]"
     }
    },
    "2e617940fdbd414bbb80bed7fc43e27b": {
     "model_module": "@jupyter-widgets/controls",
     "model_name": "DescriptionStyleModel",
     "state": {
      "_model_module": "@jupyter-widgets/controls",
      "_model_module_version": "1.5.0",
      "_model_name": "DescriptionStyleModel",
      "_view_count": null,
      "_view_module": "@jupyter-widgets/base",
      "_view_module_version": "1.2.0",
      "_view_name": "StyleView",
      "description_width": ""
     }
    },
    "603fa75f36a74af8a7a8b07e76023566": {
     "model_module": "@jupyter-widgets/controls",
     "model_name": "FloatProgressModel",
     "state": {
      "_dom_classes": [],
      "_model_module": "@jupyter-widgets/controls",
      "_model_module_version": "1.5.0",
      "_model_name": "FloatProgressModel",
      "_view_count": null,
      "_view_module": "@jupyter-widgets/controls",
      "_view_module_version": "1.5.0",
      "_view_name": "ProgressView",
      "bar_style": "success",
      "description": "100%",
      "description_tooltip": null,
      "layout": "IPY_MODEL_ac360e2d42bc4ed488151257dfec5487",
      "max": 553433881,
      "min": 0,
      "orientation": "horizontal",
      "style": "IPY_MODEL_7f9a0eb15e984d3694b61c0efca06e7c",
      "value": 553433881
     }
    },
    "7f9a0eb15e984d3694b61c0efca06e7c": {
     "model_module": "@jupyter-widgets/controls",
     "model_name": "ProgressStyleModel",
     "state": {
      "_model_module": "@jupyter-widgets/controls",
      "_model_module_version": "1.5.0",
      "_model_name": "ProgressStyleModel",
      "_view_count": null,
      "_view_module": "@jupyter-widgets/base",
      "_view_module_version": "1.2.0",
      "_view_name": "StyleView",
      "bar_color": null,
      "description_width": "initial"
     }
    },
    "9d6da90575694ec0b0ddcd2611528372": {
     "model_module": "@jupyter-widgets/base",
     "model_name": "LayoutModel",
     "state": {
      "_model_module": "@jupyter-widgets/base",
      "_model_module_version": "1.2.0",
      "_model_name": "LayoutModel",
      "_view_count": null,
      "_view_module": "@jupyter-widgets/base",
      "_view_module_version": "1.2.0",
      "_view_name": "LayoutView",
      "align_content": null,
      "align_items": null,
      "align_self": null,
      "border": null,
      "bottom": null,
      "display": null,
      "flex": null,
      "flex_flow": null,
      "grid_area": null,
      "grid_auto_columns": null,
      "grid_auto_flow": null,
      "grid_auto_rows": null,
      "grid_column": null,
      "grid_gap": null,
      "grid_row": null,
      "grid_template_areas": null,
      "grid_template_columns": null,
      "grid_template_rows": null,
      "height": null,
      "justify_content": null,
      "justify_items": null,
      "left": null,
      "margin": null,
      "max_height": null,
      "max_width": null,
      "min_height": null,
      "min_width": null,
      "object_fit": null,
      "object_position": null,
      "order": null,
      "overflow": null,
      "overflow_x": null,
      "overflow_y": null,
      "padding": null,
      "right": null,
      "top": null,
      "visibility": null,
      "width": null
     }
    },
    "a39e528e18b54357a63d1c6f112b01a0": {
     "model_module": "@jupyter-widgets/controls",
     "model_name": "HBoxModel",
     "state": {
      "_dom_classes": [],
      "_model_module": "@jupyter-widgets/controls",
      "_model_module_version": "1.5.0",
      "_model_name": "HBoxModel",
      "_view_count": null,
      "_view_module": "@jupyter-widgets/controls",
      "_view_module_version": "1.5.0",
      "_view_name": "HBoxView",
      "box_style": "",
      "children": [
       "IPY_MODEL_603fa75f36a74af8a7a8b07e76023566",
       "IPY_MODEL_138afb222d3244adbc9264433ba61ace"
      ],
      "layout": "IPY_MODEL_9d6da90575694ec0b0ddcd2611528372"
     }
    },
    "ac360e2d42bc4ed488151257dfec5487": {
     "model_module": "@jupyter-widgets/base",
     "model_name": "LayoutModel",
     "state": {
      "_model_module": "@jupyter-widgets/base",
      "_model_module_version": "1.2.0",
      "_model_name": "LayoutModel",
      "_view_count": null,
      "_view_module": "@jupyter-widgets/base",
      "_view_module_version": "1.2.0",
      "_view_name": "LayoutView",
      "align_content": null,
      "align_items": null,
      "align_self": null,
      "border": null,
      "bottom": null,
      "display": null,
      "flex": null,
      "flex_flow": null,
      "grid_area": null,
      "grid_auto_columns": null,
      "grid_auto_flow": null,
      "grid_auto_rows": null,
      "grid_column": null,
      "grid_gap": null,
      "grid_row": null,
      "grid_template_areas": null,
      "grid_template_columns": null,
      "grid_template_rows": null,
      "height": null,
      "justify_content": null,
      "justify_items": null,
      "left": null,
      "margin": null,
      "max_height": null,
      "max_width": null,
      "min_height": null,
      "min_width": null,
      "object_fit": null,
      "object_position": null,
      "order": null,
      "overflow": null,
      "overflow_x": null,
      "overflow_y": null,
      "padding": null,
      "right": null,
      "top": null,
      "visibility": null,
      "width": null
     }
    }
   }
  }
 },
 "nbformat": 4,
 "nbformat_minor": 2
}
